{
 "metadata": {
  "language_info": {
   "codemirror_mode": {
    "name": "ipython",
    "version": 3
   },
   "file_extension": ".py",
   "mimetype": "text/x-python",
   "name": "python",
   "nbconvert_exporter": "python",
   "pygments_lexer": "ipython3",
   "version": "3.7.8-final"
  },
  "orig_nbformat": 2,
  "kernelspec": {
   "name": "python3",
   "display_name": "Python 3",
   "language": "python"
  }
 },
 "nbformat": 4,
 "nbformat_minor": 2,
 "cells": [
  {
   "source": [
    "## Test smells classification\n",
    "\n",
    "**Task:** Classify a Java class as having one of the following smells: Conditional Test Logic or Exception Handling<br>\n",
    "**Data:** Experiment data from https://testsmells.github.io/pages/research/experimentdata.html<br>\n",
    "**Model:** LSTM neural network"
   ],
   "cell_type": "markdown",
   "metadata": {}
  },
  {
   "source": [
    "### Load vectorized data"
   ],
   "cell_type": "markdown",
   "metadata": {}
  },
  {
   "cell_type": "code",
   "execution_count": 3,
   "metadata": {},
   "outputs": [
    {
     "output_type": "stream",
     "name": "stdout",
     "text": [
      "0       [618, 432, 2000, 46, 2001, 46, 2002, 46, 2003,...\n1       [618, 432, 2000, 46, 2001, 46, 2002, 46, 2003,...\n2       [432, 2000, 46, 2001, 46, 2002, 46, 2003, 46, ...\n3       [432, 2000, 46, 2001, 46, 2002, 46, 2003, 46, ...\n4       [432, 2000, 46, 2001, 46, 2002, 46, 2003, 46, ...\n                              ...                        \n1995    [618, 432, 2000, 46, 2001, 46, 2002, 46, 2003,...\n1996    [432, 2000, 46, 2001, 46, 2002, 46, 2003, 46, ...\n1997    [432, 2000, 46, 2001, 46, 2002, 59, 397, 2003,...\n1998    [432, 2000, 46, 2001, 46, 2002, 46, 2003, 46, ...\n1999    [618, 432, 2000, 46, 2001, 46, 2002, 46, 2003,...\nName: Vector, Length: 2000, dtype: object\n0       [618, 432, 2000, 46, 2001, 46, 2002, 46, 2003,...\n1       [432, 2000, 46, 2001, 46, 2002, 46, 2003, 59, ...\n2       [604, 432, 2000, 46, 2001, 46, 2002, 46, 377, ...\n3       [432, 2000, 46, 2001, 46, 2002, 46, 2003, 59, ...\n4       [432, 2000, 46, 2001, 46, 2002, 59, 397, 2000,...\n                              ...                        \n1995    [432, 2000, 46, 2001, 46, 2002, 46, 2003, 59, ...\n1996    [618, 432, 2000, 46, 2001, 46, 2002, 46, 2003,...\n1997    [432, 2000, 46, 2001, 46, 2002, 46, 2003, 46, ...\n1998    [618, 432, 2000, 46, 2001, 46, 2002, 46, 2003,...\n1999    [432, 2000, 46, 2001, 46, 2002, 59, 397, 2003,...\nName: Vector, Length: 2000, dtype: object\n"
     ]
    }
   ],
   "source": [
    "import pandas as pd\n",
    "\n",
    "# Read input data\n",
    "df1 = pd.read_csv('data/ConditionalTestLogic_vectors.csv')\n",
    "df2 = pd.read_csv('data/ExceptionCatchingThrowing_vectors.csv')\n",
    "\n",
    "# Get rid off useless features\n",
    "df1.drop(df1.columns[[0, 1, 2]], axis=1, inplace=True)\n",
    "df2.drop(df2.columns[[0, 1, 2]], axis=1, inplace=True)\n",
    "\n",
    "# Preprocess\n",
    "df1['Vector'] = [x[:-1] for x in df1['Vector']]\n",
    "df2['Vector'] = [x[:-1] for x in df2['Vector']]\n",
    "df1['Vector'] = [list(map(int, x.split(' '))) for x in df1['Vector']]\n",
    "df2['Vector'] = [list(map(int, x.split(' '))) for x in df2['Vector']]\n",
    "print(df1['Vector'])\n",
    "print(df2['Vector'])"
   ]
  },
  {
   "source": [
    "### Train/predict procedure"
   ],
   "cell_type": "markdown",
   "metadata": {}
  },
  {
   "cell_type": "code",
   "execution_count": 2,
   "metadata": {},
   "outputs": [],
   "source": [
    "from keras import Sequential\n",
    "from keras.layers import Embedding, SpatialDropout1D, LSTM, Dense\n",
    "from keras.preprocessing.sequence import pad_sequences\n",
    "from sklearn.model_selection import train_test_split\n",
    "\n",
    "\n",
    "# Model parameters\n",
    "MAX_NB_WORDS = 5000\n",
    "MAX_SEQUENCE_LENGTH = 500\n",
    "EMBEDDING_DIM = 100\n",
    "EPOCHS = 10\n",
    "BATCH_SIZE = 64\n",
    "\n",
    "\n",
    "def split_dataset(df):\n",
    "    \"\"\"\n",
    "    Split the dataset into training and test sets\n",
    "\n",
    "    :param df: The dataset as a Pandas DataFrame\n",
    "    :return A tuple of format (X_train, X_test, Y_train, Y_test)\n",
    "    \"\"\"\n",
    "\n",
    "    X = pad_sequences(df['Vector'].values, MAX_SEQUENCE_LENGTH)\n",
    "    Y = pd.get_dummies(df['Smell']).values\n",
    "    return train_test_split(X, Y, test_size=0.3, random_state=42)\n",
    "\n",
    "\n",
    "def train_LSTM(X_train, Y_train, Xs):\n",
    "    \"\"\"\n",
    "    Train a LSTM model for the given training dataset\n",
    "\n",
    "    :param X_train: The training feature vector\n",
    "    :param Y_train: The labels vector\n",
    "    :param Xs: The shape of the training feature vector\n",
    "    :return The trained model\n",
    "    \"\"\"\n",
    "\n",
    "    model = Sequential()\n",
    "    model.add(Embedding(MAX_NB_WORDS, EMBEDDING_DIM, input_length=Xs))\n",
    "    model.add(SpatialDropout1D(0.2))\n",
    "    model.add(LSTM(100, dropout=0.2, recurrent_dropout=0.2))\n",
    "    model.add(Dense(2, activation='sigmoid'))\n",
    "    model.compile(loss='categorical_crossentropy', optimizer='adam', metrics=['accuracy'])\n",
    "\n",
    "    # Train model\n",
    "    model.fit(X_train, Y_train, epochs=EPOCHS, batch_size=BATCH_SIZE)\n",
    "    return model"
   ]
  },
  {
   "cell_type": "code",
   "execution_count": 3,
   "metadata": {},
   "outputs": [
    {
     "output_type": "stream",
     "name": "stdout",
     "text": [
      "Epoch 1/10\n",
      "22/22 [==============================] - 36s 2s/step - loss: 0.6896 - accuracy: 0.5400\n",
      "Epoch 2/10\n",
      "22/22 [==============================] - 23s 1s/step - loss: 0.5953 - accuracy: 0.7050\n",
      "Epoch 3/10\n",
      "22/22 [==============================] - 20s 912ms/step - loss: 0.5643 - accuracy: 0.7457\n",
      "Epoch 4/10\n",
      "22/22 [==============================] - 20s 887ms/step - loss: 0.4941 - accuracy: 0.7893\n",
      "Epoch 5/10\n",
      "22/22 [==============================] - 22s 1s/step - loss: 0.4208 - accuracy: 0.8171\n",
      "Epoch 6/10\n",
      "22/22 [==============================] - 21s 973ms/step - loss: 0.3913 - accuracy: 0.8414\n",
      "Epoch 7/10\n",
      "22/22 [==============================] - 25s 1s/step - loss: 0.3329 - accuracy: 0.8607\n",
      "Epoch 8/10\n",
      "22/22 [==============================] - 23s 1s/step - loss: 0.3453 - accuracy: 0.8650\n",
      "Epoch 9/10\n",
      "22/22 [==============================] - 26s 1s/step - loss: 0.3211 - accuracy: 0.8743\n",
      "Epoch 10/10\n",
      "22/22 [==============================] - 19s 877ms/step - loss: 0.2538 - accuracy: 0.9007\n",
      "19/19 [==============================] - 2s 86ms/step - loss: 0.3653 - accuracy: 0.8633\n",
      "\n",
      "Test Set Performance\n",
      "Loss: 0.365\n",
      "Accuracy: 0.863\n"
     ]
    }
   ],
   "source": [
    "# For ConditionalTestLogic\n",
    "X_train, X_test, Y_train, Y_test = split_dataset(df1)\n",
    "model = train_LSTM(X_train, Y_train, X_train.shape[1])\n",
    "accr = model.evaluate(X_test, Y_test)\n",
    "print('\\nTest Set Performance\\nLoss: {:0.3f}\\nAccuracy: {:0.3f}'.format(accr[0], accr[1]))\n"
   ]
  },
  {
   "cell_type": "code",
   "execution_count": 4,
   "metadata": {},
   "outputs": [
    {
     "output_type": "stream",
     "name": "stdout",
     "text": [
      "Epoch 1/10\n",
      "22/22 [==============================] - 22s 992ms/step - loss: 0.6879 - accuracy: 0.5400\n",
      "Epoch 2/10\n",
      "22/22 [==============================] - 22s 979ms/step - loss: 0.6251 - accuracy: 0.6714\n",
      "Epoch 3/10\n",
      "22/22 [==============================] - 22s 983ms/step - loss: 0.5158 - accuracy: 0.7550\n",
      "Epoch 4/10\n",
      "22/22 [==============================] - 22s 980ms/step - loss: 0.4757 - accuracy: 0.7893\n",
      "Epoch 5/10\n",
      "22/22 [==============================] - 22s 1s/step - loss: 0.4067 - accuracy: 0.8214\n",
      "Epoch 6/10\n",
      "22/22 [==============================] - 21s 976ms/step - loss: 0.3623 - accuracy: 0.8479\n",
      "Epoch 7/10\n",
      "22/22 [==============================] - 21s 960ms/step - loss: 0.3082 - accuracy: 0.8779\n",
      "Epoch 8/10\n",
      "22/22 [==============================] - 23s 1s/step - loss: 0.3125 - accuracy: 0.8850\n",
      "Epoch 9/10\n",
      "22/22 [==============================] - 22s 1s/step - loss: 0.3445 - accuracy: 0.8921\n",
      "Epoch 10/10\n",
      "22/22 [==============================] - 22s 983ms/step - loss: 0.3968 - accuracy: 0.8307\n",
      "19/19 [==============================] - 2s 104ms/step - loss: 0.3498 - accuracy: 0.8683\n",
      "\n",
      "Test Set Performance\n",
      "Loss: 0.350\n",
      "Accuracy: 0.868\n"
     ]
    }
   ],
   "source": [
    "# For ExceptionCatchingThrowing\n",
    "X_train, X_test, Y_train, Y_test = split_dataset(df2)\n",
    "model = train_LSTM(X_train, Y_train, X_train.shape[1])\n",
    "accr = model.evaluate(X_test, Y_test)\n",
    "print('\\nTest Set Performance\\nLoss: {:0.3f}\\nAccuracy: {:0.3f}'.format(accr[0], accr[1]))"
   ]
  }
 ]
}