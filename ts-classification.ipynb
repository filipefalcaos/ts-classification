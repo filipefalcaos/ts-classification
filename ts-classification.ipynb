{
 "metadata": {
  "language_info": {
   "codemirror_mode": {
    "name": "ipython",
    "version": 3
   },
   "file_extension": ".py",
   "mimetype": "text/x-python",
   "name": "python",
   "nbconvert_exporter": "python",
   "pygments_lexer": "ipython3",
   "version": "3.7.8-final"
  },
  "orig_nbformat": 2,
  "kernelspec": {
   "name": "python3",
   "display_name": "Python 3",
   "language": "python"
  }
 },
 "nbformat": 4,
 "nbformat_minor": 2,
 "cells": [
  {
   "source": [
    "## Test smells classification\n",
    "\n",
    "**Task:** Classify a Java class as having one of the following smells: Conditional Test Logic or Exception Handling<br>\n",
    "**Data:** Experiment data from https://testsmells.github.io/pages/research/experimentdata.html<br>\n",
    "**Model:** LSTM neural network"
   ],
   "cell_type": "markdown",
   "metadata": {}
  },
  {
   "source": [
    "### Load vectorized data"
   ],
   "cell_type": "markdown",
   "metadata": {}
  },
  {
   "cell_type": "code",
   "execution_count": 22,
   "metadata": {},
   "outputs": [],
   "source": [
    "import pandas as pd\n",
    "\n",
    "# Read input data\n",
    "df1 = pd.read_csv('data/ConditionalTestLogic_vectors.csv')\n",
    "df2 = pd.read_csv('data/ExceptionCatchingThrowing_vectors.csv')\n",
    "\n",
    "# Get rid off useless features\n",
    "df1.drop(df1.columns[[0, 1, 2]], axis=1, inplace=True)\n",
    "df2.drop(df2.columns[[0, 1, 2]], axis=1, inplace=True)\n",
    "\n",
    "# Preprocess\n",
    "df1['Vector'] = [x[:-1] for x in df1['Vector']]\n",
    "df2['Vector'] = [x[:-1] for x in df2['Vector']]\n",
    "df1['Vector'] = [list(map(int, x.split(' '))) for x in df1['Vector']]\n",
    "df2['Vector'] = [list(map(int, x.split(' '))) for x in df2['Vector']]"
   ]
  },
  {
   "source": [
    "### Train/predict procedure"
   ],
   "cell_type": "markdown",
   "metadata": {}
  },
  {
   "cell_type": "code",
   "execution_count": 49,
   "metadata": {},
   "outputs": [],
   "source": [
    "from keras import Sequential\n",
    "from keras.layers import Embedding, SpatialDropout1D, LSTM, Dense\n",
    "from keras.preprocessing.sequence import pad_sequences\n",
    "from sklearn.model_selection import train_test_split\n",
    "\n",
    "\n",
    "# Model parameters\n",
    "MAX_NB_WORDS = 50000\n",
    "MAX_SEQUENCE_LENGTH = 500\n",
    "EMBEDDING_DIM = 100\n",
    "EPOCHS = 10\n",
    "BATCH_SIZE = 64\n",
    "\n",
    "\n",
    "def split_dataset(df):\n",
    "    \"\"\"\n",
    "    Split the dataset into training and test sets\n",
    "\n",
    "    :param df: The dataset as a Pandas DataFrame\n",
    "    :return A tuple of format (X_train, X_test, Y_train, Y_test)\n",
    "    \"\"\"\n",
    "\n",
    "    X = pad_sequences(df['Vector'].values, MAX_SEQUENCE_LENGTH)\n",
    "    Y = pd.get_dummies(df['Smell']).values\n",
    "    return train_test_split(X, Y, test_size=0.3, random_state=42)\n",
    "\n",
    "\n",
    "def train_LSTM(X_train, Y_train, Xs):\n",
    "    \"\"\"\n",
    "    Train a LSTM model for the given training dataset\n",
    "\n",
    "    :param X_train: The training feature vector\n",
    "    :param Y_train: The labels vector\n",
    "    :param Xs: The shape of the training feature vector\n",
    "    :return The trained model\n",
    "    \"\"\"\n",
    "\n",
    "    model = Sequential()\n",
    "    model.add(Embedding(MAX_NB_WORDS, EMBEDDING_DIM, input_length=Xs))\n",
    "    model.add(SpatialDropout1D(0.2))\n",
    "    model.add(LSTM(100, dropout=0.2, recurrent_dropout=0.2))\n",
    "    model.add(Dense(2, activation='sigmoid'))\n",
    "    model.compile(loss='categorical_crossentropy', optimizer='adam', metrics=['accuracy'])\n",
    "\n",
    "    # Train model\n",
    "    model.fit(X_train, Y_train, epochs=EPOCHS, batch_size=BATCH_SIZE)\n",
    "    return model"
   ]
  },
  {
   "cell_type": "code",
   "execution_count": 52,
   "metadata": {},
   "outputs": [
    {
     "output_type": "stream",
     "name": "stdout",
     "text": [
      "Epoch 1/10\n",
      "22/22 [==============================] - 20s 910ms/step - loss: 0.6880 - accuracy: 0.5293\n",
      "Epoch 2/10\n",
      "22/22 [==============================] - 23s 1s/step - loss: 0.5847 - accuracy: 0.7179\n",
      "Epoch 3/10\n",
      "22/22 [==============================] - 24s 1s/step - loss: 0.4989 - accuracy: 0.7921\n",
      "Epoch 4/10\n",
      "22/22 [==============================] - 20s 896ms/step - loss: 0.7115 - accuracy: 0.6764\n",
      "Epoch 5/10\n",
      "22/22 [==============================] - 21s 964ms/step - loss: 0.5726 - accuracy: 0.6657\n",
      "Epoch 6/10\n",
      "22/22 [==============================] - 20s 910ms/step - loss: 0.4898 - accuracy: 0.7929\n",
      "Epoch 7/10\n",
      "22/22 [==============================] - 19s 882ms/step - loss: 0.5021 - accuracy: 0.7714\n",
      "Epoch 8/10\n",
      "22/22 [==============================] - 19s 880ms/step - loss: 0.4444 - accuracy: 0.8264\n",
      "Epoch 9/10\n",
      "22/22 [==============================] - 19s 884ms/step - loss: 0.3879 - accuracy: 0.8507\n",
      "Epoch 10/10\n",
      "22/22 [==============================] - 22s 995ms/step - loss: 0.3676 - accuracy: 0.8621\n",
      "19/19 [==============================] - 2s 87ms/step - loss: 0.3808 - accuracy: 0.8500\n",
      "\n",
      "Test Set Performance\n",
      "Loss: 0.381\n",
      "Accuracy: 0.850\n"
     ]
    }
   ],
   "source": [
    "# For ConditionalTestLogic\n",
    "X_train, X_test, Y_train, Y_test = split_dataset(df1)\n",
    "model = train_LSTM(X_train, Y_train, X_train.shape[1])\n",
    "accr = model.evaluate(X_test, Y_test)\n",
    "print('\\nTest Set Performance\\nLoss: {:0.3f}\\nAccuracy: {:0.3f}'.format(accr[0], accr[1]))\n"
   ]
  },
  {
   "cell_type": "code",
   "execution_count": 53,
   "metadata": {},
   "outputs": [
    {
     "output_type": "stream",
     "name": "stdout",
     "text": [
      "Epoch 1/10\n",
      "22/22 [==============================] - 20s 900ms/step - loss: 0.6910 - accuracy: 0.5207\n",
      "Epoch 2/10\n",
      "22/22 [==============================] - 19s 882ms/step - loss: 0.6529 - accuracy: 0.6200\n",
      "Epoch 3/10\n",
      "22/22 [==============================] - 19s 883ms/step - loss: 0.5485 - accuracy: 0.7350\n",
      "Epoch 4/10\n",
      "22/22 [==============================] - 21s 974ms/step - loss: 0.4613 - accuracy: 0.7886\n",
      "Epoch 5/10\n",
      "22/22 [==============================] - 23s 1s/step - loss: 0.4021 - accuracy: 0.8236\n",
      "Epoch 6/10\n",
      "22/22 [==============================] - 19s 871ms/step - loss: 0.3758 - accuracy: 0.8286\n",
      "Epoch 7/10\n",
      "22/22 [==============================] - 19s 863ms/step - loss: 0.3266 - accuracy: 0.8700\n",
      "Epoch 8/10\n",
      "22/22 [==============================] - 20s 899ms/step - loss: 0.2821 - accuracy: 0.8979\n",
      "Epoch 9/10\n",
      "22/22 [==============================] - 20s 896ms/step - loss: 0.2573 - accuracy: 0.9114\n",
      "Epoch 10/10\n",
      "22/22 [==============================] - 19s 869ms/step - loss: 0.2101 - accuracy: 0.9179\n",
      "19/19 [==============================] - 2s 92ms/step - loss: 0.3493 - accuracy: 0.8583\n",
      "\n",
      "Test Set Performance\n",
      "Loss: 0.349\n",
      "Accuracy: 0.858\n"
     ]
    }
   ],
   "source": [
    "# For ExceptionCatchingThrowing\n",
    "X_train, X_test, Y_train, Y_test = split_dataset(df2)\n",
    "model = train_LSTM(X_train, Y_train, X_train.shape[1])\n",
    "accr = model.evaluate(X_test, Y_test)\n",
    "print('\\nTest Set Performance\\nLoss: {:0.3f}\\nAccuracy: {:0.3f}'.format(accr[0], accr[1]))"
   ]
  }
 ]
}